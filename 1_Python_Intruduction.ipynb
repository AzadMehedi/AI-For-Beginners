{
  "nbformat": 4,
  "nbformat_minor": 0,
  "metadata": {
    "colab": {
      "provenance": [],
      "authorship_tag": "ABX9TyNur174daNB9E8f2PoYFN1+",
      "include_colab_link": true
    },
    "kernelspec": {
      "name": "python3",
      "display_name": "Python 3"
    },
    "language_info": {
      "name": "python"
    }
  },
  "cells": [
    {
      "cell_type": "markdown",
      "metadata": {
        "id": "view-in-github",
        "colab_type": "text"
      },
      "source": [
        "<a href=\"https://colab.research.google.com/github/AzadMehedi/AI-For-Beginners/blob/main/1_Python_Intruduction.ipynb\" target=\"_parent\"><img src=\"https://colab.research.google.com/assets/colab-badge.svg\" alt=\"Open In Colab\"/></a>"
      ]
    },
    {
      "cell_type": "code",
      "execution_count": null,
      "metadata": {
        "id": "4xpIj4jTWYkM"
      },
      "outputs": [],
      "source": []
    },
    {
      "cell_type": "markdown",
      "source": [
        "1.1 : মডিউল ১- পাইথন প্রপগ্রামিং এর প্রাথমিক পরিচিতি।"
      ],
      "metadata": {
        "id": "IwkUEiDSY5rJ"
      }
    },
    {
      "cell_type": "code",
      "source": [],
      "metadata": {
        "id": "AJ7O45Y7ZGy-"
      },
      "execution_count": null,
      "outputs": []
    },
    {
      "cell_type": "markdown",
      "source": [
        "1.2 : মডিউল ২- পাইথন ইন্সলেশন এবং এনভাইরনমেন্ট সেটআপ।"
      ],
      "metadata": {
        "id": "QEVz8QcvZHOq"
      }
    },
    {
      "cell_type": "code",
      "source": [],
      "metadata": {
        "id": "LAZFABGBZUog"
      },
      "execution_count": null,
      "outputs": []
    },
    {
      "cell_type": "markdown",
      "source": [
        "1.3 : এডিটর এর ব্যবহার।"
      ],
      "metadata": {
        "id": "Yfz-X4UpZVaQ"
      }
    },
    {
      "cell_type": "code",
      "source": [],
      "metadata": {
        "id": "vEnJnxaYaCjj"
      },
      "execution_count": null,
      "outputs": []
    }
  ]
}